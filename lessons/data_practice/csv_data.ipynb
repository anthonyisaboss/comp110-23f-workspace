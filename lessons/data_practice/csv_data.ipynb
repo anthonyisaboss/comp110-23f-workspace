{
 "cells": [
  {
   "cell_type": "markdown",
   "metadata": {},
   "source": [
    "# Working with csv files"
   ]
  },
  {
   "cell_type": "code",
   "execution_count": 1,
   "metadata": {},
   "outputs": [
    {
     "name": "stdout",
     "output_type": "stream",
     "text": [
      "Autoreload imported modules sucessfully.\n"
     ]
    }
   ],
   "source": [
    "%reload_ext autoreload\n",
    "%autoreload 2\n",
    "print(\"Autoreload imported modules sucessfully.\")"
   ]
  },
  {
   "cell_type": "markdown",
   "metadata": {},
   "source": [
    "Reading a CSV file"
   ]
  },
  {
   "cell_type": "code",
   "execution_count": 2,
   "metadata": {},
   "outputs": [],
   "source": [
    "from data_utils import read_scv_rows\n",
    "\n",
    "filename: str = \"../../data/wheather.csv\"\n",
    "data: list[dict[str, str]] = read_scv_rows(filename)"
   ]
  },
  {
   "cell_type": "markdown",
   "metadata": {},
   "source": [
    "## Get data from one column\n"
   ]
  },
  {
   "cell_type": "code",
   "execution_count": 3,
   "metadata": {},
   "outputs": [
    {
     "ename": "KeyError",
     "evalue": "'Low'",
     "output_type": "error",
     "traceback": [
      "\u001b[1;31m---------------------------------------------------------------------------\u001b[0m",
      "\u001b[1;31mKeyError\u001b[0m                                  Traceback (most recent call last)",
      "\u001b[1;32mc:\\Users\\antho\\OneDrive\\Documents\\Desktop\\comp110-23f-workspace\\lessons\\data_practice\\csv_data.ipynb Cell 6\u001b[0m line \u001b[0;36m3\n\u001b[0;32m      <a href='vscode-notebook-cell:/c%3A/Users/antho/OneDrive/Documents/Desktop/comp110-23f-workspace/lessons/data_practice/csv_data.ipynb#X13sZmlsZQ%3D%3D?line=0'>1</a>\u001b[0m \u001b[39mfrom\u001b[39;00m \u001b[39mdata_utils\u001b[39;00m \u001b[39mimport\u001b[39;00m column_vals\n\u001b[1;32m----> <a href='vscode-notebook-cell:/c%3A/Users/antho/OneDrive/Documents/Desktop/comp110-23f-workspace/lessons/data_practice/csv_data.ipynb#X13sZmlsZQ%3D%3D?line=2'>3</a>\u001b[0m column_vals(data, \u001b[39m\"\u001b[39;49m\u001b[39mLow\u001b[39;49m\u001b[39m\"\u001b[39;49m)\n",
      "File \u001b[1;32mc:\\Users\\antho\\OneDrive\\Documents\\Desktop\\comp110-23f-workspace\\lessons\\data_practice\\data_utils.py:20\u001b[0m, in \u001b[0;36mcolumn_vals\u001b[1;34m(table, header)\u001b[0m\n\u001b[0;32m     18\u001b[0m result: \u001b[39mlist\u001b[39m[\u001b[39mstr\u001b[39m] \u001b[39m=\u001b[39m []\n\u001b[0;32m     19\u001b[0m \u001b[39mfor\u001b[39;00m elem \u001b[39min\u001b[39;00m table:\n\u001b[1;32m---> 20\u001b[0m     result\u001b[39m.\u001b[39mappend(elem[header])\n\u001b[0;32m     21\u001b[0m \u001b[39mreturn\u001b[39;00m result\n",
      "\u001b[1;31mKeyError\u001b[0m: 'Low'"
     ]
    }
   ],
   "source": [
    "from data_utils import column_vals\n",
    "\n",
    "column_vals(data, \"Low\")\n",
    "\n"
   ]
  }
 ],
 "metadata": {
  "kernelspec": {
   "display_name": "Python 3",
   "language": "python",
   "name": "python3"
  },
  "language_info": {
   "codemirror_mode": {
    "name": "ipython",
    "version": 3
   },
   "file_extension": ".py",
   "mimetype": "text/x-python",
   "name": "python",
   "nbconvert_exporter": "python",
   "pygments_lexer": "ipython3",
   "version": "3.11.4"
  }
 },
 "nbformat": 4,
 "nbformat_minor": 2
}
